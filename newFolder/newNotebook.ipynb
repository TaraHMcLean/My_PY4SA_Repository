{
 "cells": [
  {
   "cell_type": "code",
   "execution_count": 1,
   "id": "bf6c6348-2b20-4335-af55-3ba8a0ff0dba",
   "metadata": {},
   "outputs": [],
   "source": [
    "#this is a new notebook"
   ]
  }
 ],
 "metadata": {
  "kernelspec": {
   "display_name": "Python 3 (ipykernel)",
   "language": "python",
   "name": "python3"
  },
  "language_info": {
   "codemirror_mode": {
    "name": "ipython",
    "version": 3
   },
   "file_extension": ".py",
   "mimetype": "text/x-python",
   "name": "python",
   "nbconvert_exporter": "python",
   "pygments_lexer": "ipython3",
   "version": "3.10.9"
  }
 },
 "nbformat": 4,
 "nbformat_minor": 5
}
